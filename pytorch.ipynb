{
  "nbformat": 4,
  "nbformat_minor": 0,
  "metadata": {
    "colab": {
      "name": "pytorch.ipynb",
      "provenance": []
    },
    "kernelspec": {
      "name": "python3",
      "display_name": "Python 3"
    }
  },
  "cells": [
    {
      "cell_type": "code",
      "metadata": {
        "id": "ZbQdS8cXYCjE",
        "colab_type": "code",
        "colab": {}
      },
      "source": [
        "import numpy as np\n",
        "import pandas as pd\n",
        "import matplotlib.pyplot as plt\n",
        "import torch"
      ],
      "execution_count": 0,
      "outputs": []
    },
    {
      "cell_type": "code",
      "metadata": {
        "id": "TO2ZAZqjYfhe",
        "colab_type": "code",
        "colab": {}
      },
      "source": [
        "v=torch.tensor([1,2,3,4,5,6]) # one dimensional tensor"
      ],
      "execution_count": 0,
      "outputs": []
    },
    {
      "cell_type": "code",
      "metadata": {
        "id": "RfOcGECLaLlS",
        "colab_type": "code",
        "outputId": "619c01ed-164c-4bf4-d566-328211818cef",
        "colab": {
          "base_uri": "https://localhost:8080/",
          "height": 34
        }
      },
      "source": [
        "f= torch.FloatTensor([1,2,3,4,5,6]) # Float Tensor\n",
        "f"
      ],
      "execution_count": 4,
      "outputs": [
        {
          "output_type": "execute_result",
          "data": {
            "text/plain": [
              "tensor([1., 2., 3., 4., 5., 6.])"
            ]
          },
          "metadata": {
            "tags": []
          },
          "execution_count": 4
        }
      ]
    },
    {
      "cell_type": "code",
      "metadata": {
        "id": "abwSlBDIapBh",
        "colab_type": "code",
        "outputId": "0712022b-30b7-47bd-9ce5-7aac1f96096e",
        "colab": {
          "base_uri": "https://localhost:8080/",
          "height": 119
        }
      },
      "source": [
        "v.view(6,1) # Like Reshape in numpy"
      ],
      "execution_count": 5,
      "outputs": [
        {
          "output_type": "execute_result",
          "data": {
            "text/plain": [
              "tensor([[1],\n",
              "        [2],\n",
              "        [3],\n",
              "        [4],\n",
              "        [5],\n",
              "        [6]])"
            ]
          },
          "metadata": {
            "tags": []
          },
          "execution_count": 5
        }
      ]
    },
    {
      "cell_type": "code",
      "metadata": {
        "id": "gicQDbd9bEZa",
        "colab_type": "code",
        "outputId": "4d7fe644-90cb-4d1b-b1e1-590017cc6211",
        "colab": {
          "base_uri": "https://localhost:8080/",
          "height": 68
        }
      },
      "source": [
        "v.view(3,-1) # -1 means infer the number of columns"
      ],
      "execution_count": 6,
      "outputs": [
        {
          "output_type": "execute_result",
          "data": {
            "text/plain": [
              "tensor([[1, 2],\n",
              "        [3, 4],\n",
              "        [5, 6]])"
            ]
          },
          "metadata": {
            "tags": []
          },
          "execution_count": 6
        }
      ]
    },
    {
      "cell_type": "code",
      "metadata": {
        "id": "4yLrwiNmbRDj",
        "colab_type": "code",
        "colab": {}
      },
      "source": [
        "a=np.array([1,2,3,4,5])"
      ],
      "execution_count": 0,
      "outputs": []
    },
    {
      "cell_type": "code",
      "metadata": {
        "id": "mTL5xiYFbZ0Y",
        "colab_type": "code",
        "outputId": "c1975c7e-a46a-4cdd-c7f0-14a9a4e756f4",
        "colab": {
          "base_uri": "https://localhost:8080/",
          "height": 51
        }
      },
      "source": [
        "tensor_cnv=torch.from_numpy(a) # Convert to Tensor\n",
        "print(tensor_cnv)\n",
        "print(tensor_cnv.type())"
      ],
      "execution_count": 8,
      "outputs": [
        {
          "output_type": "stream",
          "text": [
            "tensor([1, 2, 3, 4, 5])\n",
            "torch.LongTensor\n"
          ],
          "name": "stdout"
        }
      ]
    },
    {
      "cell_type": "code",
      "metadata": {
        "id": "W2DXxxQhb3LT",
        "colab_type": "code",
        "outputId": "c99f2e52-0757-4e4f-fed5-78e72f5d1e68",
        "colab": {
          "base_uri": "https://localhost:8080/",
          "height": 34
        }
      },
      "source": [
        "# Convert back to numpy\n",
        "numpy_cnv =tensor_cnv.numpy()\n",
        "print (numpy_cnv)"
      ],
      "execution_count": 9,
      "outputs": [
        {
          "output_type": "stream",
          "text": [
            "[1 2 3 4 5]\n"
          ],
          "name": "stdout"
        }
      ]
    },
    {
      "cell_type": "code",
      "metadata": {
        "id": "QI1XDjlddTrY",
        "colab_type": "code",
        "outputId": "09c9553c-385d-43bf-a4f3-1419bd8cf891",
        "colab": {
          "base_uri": "https://localhost:8080/",
          "height": 51
        }
      },
      "source": [
        "# tensor product and dot product\n",
        "t1=torch.tensor([1,2,3])\n",
        "t2=torch.tensor([1,2,3])\n",
        "t3=t1*t2\n",
        "print(t3)\n",
        "t4=torch.dot(t1,t2)\n",
        "print(t4)"
      ],
      "execution_count": 10,
      "outputs": [
        {
          "output_type": "stream",
          "text": [
            "tensor([1, 4, 9])\n",
            "tensor(14)\n"
          ],
          "name": "stdout"
        }
      ]
    },
    {
      "cell_type": "code",
      "metadata": {
        "id": "gsjuK_iKdmuP",
        "colab_type": "code",
        "outputId": "8de6d2df-7960-473a-dc92-28331d3eb7a6",
        "colab": {
          "base_uri": "https://localhost:8080/",
          "height": 282
        }
      },
      "source": [
        "# Convert x and y to numpy to plot in matplotlib\n",
        "x=torch.linspace(0,10,1000)\n",
        "y=torch.exp(x)\n",
        "plt.plot(x.numpy(),y.numpy())"
      ],
      "execution_count": 11,
      "outputs": [
        {
          "output_type": "execute_result",
          "data": {
            "text/plain": [
              "[<matplotlib.lines.Line2D at 0x7fdfa484fa58>]"
            ]
          },
          "metadata": {
            "tags": []
          },
          "execution_count": 11
        },
        {
          "output_type": "display_data",
          "data": {
            "image/png": "[encoded data removed]",
            "text/plain": [
              "<Figure size 432x288 with 1 Axes>"
            ]
          },
          "metadata": {
            "tags": []
          }
        }
      ]
    },
    {
      "cell_type": "code",
      "metadata": {
        "id": "KT79N2zsfA0V",
        "colab_type": "code",
        "outputId": "4382f535-57fd-450a-8a12-2134287d842e",
        "colab": {
          "base_uri": "https://localhost:8080/",
          "height": 34
        }
      },
      "source": [
        "# Tensor for making images\n",
        "one_d= torch.arange(0,9,1)\n",
        "one_d"
      ],
      "execution_count": 12,
      "outputs": [
        {
          "output_type": "execute_result",
          "data": {
            "text/plain": [
              "tensor([0, 1, 2, 3, 4, 5, 6, 7, 8])"
            ]
          },
          "metadata": {
            "tags": []
          },
          "execution_count": 12
        }
      ]
    },
    {
      "cell_type": "code",
      "metadata": {
        "id": "jQlQuMx-fUpN",
        "colab_type": "code",
        "outputId": "3d0ee5de-00fb-43a4-bd7a-6fbb87962c26",
        "colab": {
          "base_uri": "https://localhost:8080/",
          "height": 68
        }
      },
      "source": [
        "two_d=one_d.view(3,3)\n",
        "two_d"
      ],
      "execution_count": 13,
      "outputs": [
        {
          "output_type": "execute_result",
          "data": {
            "text/plain": [
              "tensor([[0, 1, 2],\n",
              "        [3, 4, 5],\n",
              "        [6, 7, 8]])"
            ]
          },
          "metadata": {
            "tags": []
          },
          "execution_count": 13
        }
      ]
    },
    {
      "cell_type": "code",
      "metadata": {
        "id": "Zj07QIWwfZ4n",
        "colab_type": "code",
        "outputId": "ce09d761-ba9e-451b-b997-cb85e84bcb7b",
        "colab": {
          "base_uri": "https://localhost:8080/",
          "height": 34
        }
      },
      "source": [
        "two_d.dim()"
      ],
      "execution_count": 14,
      "outputs": [
        {
          "output_type": "execute_result",
          "data": {
            "text/plain": [
              "2"
            ]
          },
          "metadata": {
            "tags": []
          },
          "execution_count": 14
        }
      ]
    },
    {
      "cell_type": "code",
      "metadata": {
        "id": "uSuhYXvCfdpD",
        "colab_type": "code",
        "outputId": "b7866924-5e57-4fc5-b7cf-82dd8f9e0f90",
        "colab": {
          "base_uri": "https://localhost:8080/",
          "height": 34
        }
      },
      "source": [
        "two_d[1,2] # Slicing two dimensional tensor "
      ],
      "execution_count": 15,
      "outputs": [
        {
          "output_type": "execute_result",
          "data": {
            "text/plain": [
              "tensor(5)"
            ]
          },
          "metadata": {
            "tags": []
          },
          "execution_count": 15
        }
      ]
    },
    {
      "cell_type": "code",
      "metadata": {
        "id": "eQSORY8GgsqH",
        "colab_type": "code",
        "outputId": "54c7be0f-656f-402d-ce3c-6f21641c3ebd",
        "colab": {
          "base_uri": "https://localhost:8080/",
          "height": 340
        }
      },
      "source": [
        "x=torch.arange(0,30,1).view(5,3,2) # 3 dimensional tensors: with 5- no of matrices , 3 number of rows in each matrix 2-no cols per matrix\n",
        "x\n",
        "# (Number of matrices, Number of rows in a matrix, Number of Cols in the matrix)"
      ],
      "execution_count": 16,
      "outputs": [
        {
          "output_type": "execute_result",
          "data": {
            "text/plain": [
              "tensor([[[ 0,  1],\n",
              "         [ 2,  3],\n",
              "         [ 4,  5]],\n",
              "\n",
              "        [[ 6,  7],\n",
              "         [ 8,  9],\n",
              "         [10, 11]],\n",
              "\n",
              "        [[12, 13],\n",
              "         [14, 15],\n",
              "         [16, 17]],\n",
              "\n",
              "        [[18, 19],\n",
              "         [20, 21],\n",
              "         [22, 23]],\n",
              "\n",
              "        [[24, 25],\n",
              "         [26, 27],\n",
              "         [28, 29]]])"
            ]
          },
          "metadata": {
            "tags": []
          },
          "execution_count": 16
        }
      ]
    },
    {
      "cell_type": "code",
      "metadata": {
        "id": "WeOZ0PkCg-gX",
        "colab_type": "code",
        "colab": {
          "base_uri": "https://localhost:8080/",
          "height": 68
        },
        "outputId": "366e593f-6cac-4524-eb97-1581f9a8fc93"
      },
      "source": [
        "# Slicing 3 dimensional \n",
        "x[1,:,:]"
      ],
      "execution_count": 17,
      "outputs": [
        {
          "output_type": "execute_result",
          "data": {
            "text/plain": [
              "tensor([[ 6,  7],\n",
              "        [ 8,  9],\n",
              "        [10, 11]])"
            ]
          },
          "metadata": {
            "tags": []
          },
          "execution_count": 17
        }
      ]
    },
    {
      "cell_type": "markdown",
      "metadata": {
        "id": "rt-U3m-UHzLd",
        "colab_type": "text"
      },
      "source": [
        "# Matrix Multiplication"
      ]
    },
    {
      "cell_type": "code",
      "metadata": {
        "id": "YA753mdLEv34",
        "colab_type": "code",
        "colab": {
          "base_uri": "https://localhost:8080/",
          "height": 51
        },
        "outputId": "b4cddfb5-49b7-4d37-aa29-e920ba0e3958"
      },
      "source": [
        "mat_a= torch.tensor([0,3,5,5,5,2]).view(2,3)\n",
        "mat_a"
      ],
      "execution_count": 18,
      "outputs": [
        {
          "output_type": "execute_result",
          "data": {
            "text/plain": [
              "tensor([[0, 3, 5],\n",
              "        [5, 5, 2]])"
            ]
          },
          "metadata": {
            "tags": []
          },
          "execution_count": 18
        }
      ]
    },
    {
      "cell_type": "code",
      "metadata": {
        "id": "ktYeyZ0EINbI",
        "colab_type": "code",
        "colab": {
          "base_uri": "https://localhost:8080/",
          "height": 68
        },
        "outputId": "6c5790af-e45c-418c-b976-e32f94ed436f"
      },
      "source": [
        "mat_b=torch.tensor([3,4,3,-2,-4,-2]).view(3,2)\n",
        "mat_b"
      ],
      "execution_count": 21,
      "outputs": [
        {
          "output_type": "execute_result",
          "data": {
            "text/plain": [
              "tensor([[ 3,  4],\n",
              "        [ 3, -2],\n",
              "        [-4, -2]])"
            ]
          },
          "metadata": {
            "tags": []
          },
          "execution_count": 21
        }
      ]
    },
    {
      "cell_type": "code",
      "metadata": {
        "id": "cQENZKYFIZxL",
        "colab_type": "code",
        "colab": {
          "base_uri": "https://localhost:8080/",
          "height": 51
        },
        "outputId": "e8369880-2ea8-4678-c996-1e6b6e05c591"
      },
      "source": [
        "torch.matmul(mat_a,mat_b)"
      ],
      "execution_count": 22,
      "outputs": [
        {
          "output_type": "execute_result",
          "data": {
            "text/plain": [
              "tensor([[-11, -16],\n",
              "        [ 22,   6]])"
            ]
          },
          "metadata": {
            "tags": []
          },
          "execution_count": 22
        }
      ]
    },
    {
      "cell_type": "code",
      "metadata": {
        "id": "M1Aw_F0VIiyx",
        "colab_type": "code",
        "colab": {
          "base_uri": "https://localhost:8080/",
          "height": 51
        },
        "outputId": "740cdf86-5b7f-415f-abe3-367500e6b39a"
      },
      "source": [
        "mat_a @ mat_b"
      ],
      "execution_count": 23,
      "outputs": [
        {
          "output_type": "execute_result",
          "data": {
            "text/plain": [
              "tensor([[-11, -16],\n",
              "        [ 22,   6]])"
            ]
          },
          "metadata": {
            "tags": []
          },
          "execution_count": 23
        }
      ]
    },
    {
      "cell_type": "markdown",
      "metadata": {
        "id": "P1V_p_nQIo46",
        "colab_type": "text"
      },
      "source": [
        "# Derivatives"
      ]
    },
    {
      "cell_type": "code",
      "metadata": {
        "id": "BvsauA8bIoTr",
        "colab_type": "code",
        "colab": {
          "base_uri": "https://localhost:8080/",
          "height": 34
        },
        "outputId": "be466ff3-e814-4b8b-ed04-885dcbc0bd4a"
      },
      "source": [
        "X= torch.tensor(2.0,requires_grad=True)\n",
        "y=9*X**4 + 2*X**3 + 3*X**2 + 6*X +1 # Compute derivative of y at 2\n",
        "y.backward()# Compute the derivative  \n",
        "X.grad # access the derivative\n"
      ],
      "execution_count": 26,
      "outputs": [
        {
          "output_type": "execute_result",
          "data": {
            "text/plain": [
              "tensor(330.)"
            ]
          },
          "metadata": {
            "tags": []
          },
          "execution_count": 26
        }
      ]
    },
    {
      "cell_type": "markdown",
      "metadata": {
        "id": "1iVx0VMnJov1",
        "colab_type": "text"
      },
      "source": [
        "# Compute partial derivative of y at x=1,z=2\n",
        "Y=X^2 +Z^2"
      ]
    },
    {
      "cell_type": "code",
      "metadata": {
        "id": "tfyd-A7KJm0H",
        "colab_type": "code",
        "colab": {
          "base_uri": "https://localhost:8080/",
          "height": 34
        },
        "outputId": "1ee6ef2a-57a2-4ff8-938c-49459c506b80"
      },
      "source": [
        "X= torch.tensor(1.0,requires_grad=True)\n",
        "Z= torch.tensor(2.0,requires_grad=True)\n",
        "Y= X**2 + Z**3 \n",
        "Y.backward()\n",
        "print(X.grad, Z.grad)"
      ],
      "execution_count": 28,
      "outputs": [
        {
          "output_type": "stream",
          "text": [
            "tensor(2.) tensor(12.)\n"
          ],
          "name": "stdout"
        }
      ]
    }
  ]
}