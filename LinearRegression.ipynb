{
  "nbformat": 4,
  "nbformat_minor": 0,
  "metadata": {
    "colab": {
      "name": "LinearRegression.ipynb",
      "provenance": []
    },
    "kernelspec": {
      "name": "python3",
      "display_name": "Python 3"
    }
  },
  "cells": [
    {
      "cell_type": "code",
      "metadata": {
        "id": "pyneyJktPVIh",
        "colab_type": "code",
        "colab": {}
      },
      "source": [
        "import torch\n"
      ],
      "execution_count": 0,
      "outputs": []
    },
    {
      "cell_type": "code",
      "metadata": {
        "id": "CZ9J9WBJS-v9",
        "colab_type": "code",
        "colab": {}
      },
      "source": [
        "w=torch.tensor(3.0,requires_grad=True)\n",
        "b=torch.tensor(1.0,requires_grad=True)"
      ],
      "execution_count": 0,
      "outputs": []
    },
    {
      "cell_type": "code",
      "metadata": {
        "id": "tL3yYu0R6_Hm",
        "colab_type": "code",
        "colab": {
          "base_uri": "https://localhost:8080/",
          "height": 34
        },
        "outputId": "e0900bcd-8a3b-423a-a92f-222a581e7c58"
      },
      "source": [
        "w,b"
      ],
      "execution_count": 4,
      "outputs": [
        {
          "output_type": "execute_result",
          "data": {
            "text/plain": [
              "(tensor(3., requires_grad=True), tensor(1., requires_grad=True))"
            ]
          },
          "metadata": {
            "tags": []
          },
          "execution_count": 4
        }
      ]
    },
    {
      "cell_type": "code",
      "metadata": {
        "id": "QkbfQuBaTM8u",
        "colab_type": "code",
        "colab": {}
      },
      "source": [
        "def forward(x):\n",
        "  y=w*x +b\n",
        "  return y\n",
        "  "
      ],
      "execution_count": 0,
      "outputs": []
    },
    {
      "cell_type": "code",
      "metadata": {
        "id": "dXDGI8mPTT8w",
        "colab_type": "code",
        "outputId": "d06b421a-7868-4486-866a-f4c0eb7ae5ad",
        "colab": {
          "base_uri": "https://localhost:8080/",
          "height": 51
        }
      },
      "source": [
        "x=torch.tensor([[4],[7]]) # 3*4+1 =13 and 3*7 +1=22\n",
        "forward(x)"
      ],
      "execution_count": 6,
      "outputs": [
        {
          "output_type": "execute_result",
          "data": {
            "text/plain": [
              "tensor([[13.],\n",
              "        [22.]], grad_fn=<AddBackward0>)"
            ]
          },
          "metadata": {
            "tags": []
          },
          "execution_count": 6
        }
      ]
    },
    {
      "cell_type": "markdown",
      "metadata": {
        "id": "56qc1CmrT4Se",
        "colab_type": "text"
      },
      "source": [
        "# Create Linear Class"
      ]
    },
    {
      "cell_type": "code",
      "metadata": {
        "id": "zPfqpwjHT3Ja",
        "colab_type": "code",
        "colab": {}
      },
      "source": [
        "from torch.nn import Linear"
      ],
      "execution_count": 0,
      "outputs": []
    },
    {
      "cell_type": "code",
      "metadata": {
        "id": "hUiKaedGT--B",
        "colab_type": "code",
        "outputId": "60624a35-f92f-4c08-cf76-84022d1930f2",
        "colab": {
          "base_uri": "https://localhost:8080/",
          "height": 34
        }
      },
      "source": [
        "torch.manual_seed(1)"
      ],
      "execution_count": 13,
      "outputs": [
        {
          "output_type": "execute_result",
          "data": {
            "text/plain": [
              "<torch._C.Generator at 0x7f2d801670f0>"
            ]
          },
          "metadata": {
            "tags": []
          },
          "execution_count": 13
        }
      ]
    },
    {
      "cell_type": "code",
      "metadata": {
        "id": "AnBfyq09UCim",
        "colab_type": "code",
        "outputId": "b279714a-e557-49b4-c10f-f03b2a39faca",
        "colab": {
          "base_uri": "https://localhost:8080/",
          "height": 68
        }
      },
      "source": [
        "model= Linear(in_features=1,out_features=1) # 1 output for 1 input\n",
        "print(model.bias,model.weight)"
      ],
      "execution_count": 14,
      "outputs": [
        {
          "output_type": "stream",
          "text": [
            "Parameter containing:\n",
            "tensor([-0.4414], requires_grad=True) Parameter containing:\n",
            "tensor([[0.5153]], requires_grad=True)\n"
          ],
          "name": "stdout"
        }
      ]
    },
    {
      "cell_type": "code",
      "metadata": {
        "id": "rndU1EDZWuq-",
        "colab_type": "code",
        "outputId": "7e9bf893-fd95-4f3e-88f6-d9cd9b46764d",
        "colab": {
          "base_uri": "https://localhost:8080/",
          "height": 51
        }
      },
      "source": [
        "x=torch.tensor([[2.0],[3.3]])\n",
        "print(model(x))"
      ],
      "execution_count": 15,
      "outputs": [
        {
          "output_type": "stream",
          "text": [
            "tensor([[0.5891],\n",
            "        [1.2590]], grad_fn=<AddmmBackward>)\n"
          ],
          "name": "stdout"
        }
      ]
    },
    {
      "cell_type": "markdown",
      "metadata": {
        "id": "iIgFKHOaXKvF",
        "colab_type": "text"
      },
      "source": [
        "# Custom Modules"
      ]
    },
    {
      "cell_type": "code",
      "metadata": {
        "id": "SiqAW1vMXy23",
        "colab_type": "code",
        "outputId": "56307b8d-c7e8-43bd-ee38-4c988b0ec85f",
        "colab": {
          "base_uri": "https://localhost:8080/",
          "height": 34
        }
      },
      "source": [
        "import torch.nn as nn \n",
        "torch.manual_seed(1)"
      ],
      "execution_count": 30,
      "outputs": [
        {
          "output_type": "execute_result",
          "data": {
            "text/plain": [
              "<torch._C.Generator at 0x7f2d801670f0>"
            ]
          },
          "metadata": {
            "tags": []
          },
          "execution_count": 30
        }
      ]
    },
    {
      "cell_type": "code",
      "metadata": {
        "id": "LbQuRktjXKXv",
        "colab_type": "code",
        "colab": {}
      },
      "source": [
        "class LR(nn.Module): # inherent from nn \n",
        "  def __init__(self,input_size,output_size): # same as in line 11\n",
        "    super().__init__()\n",
        "    self.linear =nn.Linear(input_size,output_size)\n",
        "  \n",
        "  def forward_x(self,x): # this is to make predictions\n",
        "    pred=self.linear(x)\n",
        "    return pred\n",
        "\n"
      ],
      "execution_count": 0,
      "outputs": []
    },
    {
      "cell_type": "code",
      "metadata": {
        "id": "rN5d7cEPYhsS",
        "colab_type": "code",
        "outputId": "12bfb65c-3c80-4cd0-c88c-43c9333eba65",
        "colab": {
          "base_uri": "https://localhost:8080/",
          "height": 68
        }
      },
      "source": [
        "model= LR(1,1) # assign parameters next step is to preduct\n",
        "print(list(model.parameters()))"
      ],
      "execution_count": 32,
      "outputs": [
        {
          "output_type": "stream",
          "text": [
            "[Parameter containing:\n",
            "tensor([[0.5153]], requires_grad=True), Parameter containing:\n",
            "tensor([-0.4414], requires_grad=True)]\n"
          ],
          "name": "stdout"
        }
      ]
    },
    {
      "cell_type": "code",
      "metadata": {
        "id": "OpPWgTxoZIJH",
        "colab_type": "code",
        "outputId": "1d4d89b7-543f-4464-a377-51219684f910",
        "colab": {
          "base_uri": "https://localhost:8080/",
          "height": 51
        }
      },
      "source": [
        "x=torch.tensor([[1.0],[2.0]])\n",
        "print(model.forward_x(x))"
      ],
      "execution_count": 0,
      "outputs": [
        {
          "output_type": "stream",
          "text": [
            "tensor([[0.0739],\n",
            "        [0.5891]], grad_fn=<AddmmBackward>)\n"
          ],
          "name": "stdout"
        }
      ]
    }
  ]
}